{
 "cells": [
  {
   "cell_type": "code",
   "execution_count": 44,
   "metadata": {},
   "outputs": [
    {
     "name": "stdout",
     "output_type": "stream",
     "text": [
      "ENTER ANY NUMBER 4\n",
      "ENTER ANY NUMBER 5\n",
      "ENTER ANY OPERATOR ***\n",
      "CUBE OF VALUE1:  64\n",
      "CUBE OF VALUE2:  125\n"
     ]
    }
   ],
   "source": [
    "value1 = int(input(\"ENTER ANY NUMBER \"))\n",
    "value2 = int(input(\"ENTER ANY NUMBER \"))\n",
    "operator = input(\"ENTER ANY OPERATOR \")\n",
    "if operator == \"+\" :\n",
    "    print(value1 + value2)\n",
    "elif operator == \"-\" :\n",
    "    print(value1 - value2)\n",
    "elif operator == \"*\" :\n",
    "    print(value1 * value2)\n",
    "elif operator == \"/\" :\n",
    "    print(value1 / value2)\n",
    "elif operator == \"**\" :\n",
    "    print(\"SQUARE OF VALUE1: \", value1*value1)\n",
    "    print(\"SQUARE OF VALUE2: \", value2*value2)\n",
    "elif operator == \"***\" :\n",
    "    print(\"CUBE OF VALUE1: \", value1*value1*value1)\n",
    "    print(\"CUBE OF VALUE2: \", value2*value2*value2)\n",
    "else :\n",
    "    print(\"INVALID OPERATOR\")\n",
    "    \n",
    "                    "
   ]
  },
  {
   "cell_type": "code",
   "execution_count": 13,
   "metadata": {},
   "outputs": [
    {
     "name": "stdout",
     "output_type": "stream",
     "text": [
      "2\n",
      "4\n",
      "ANOTHER TYPE OF DATA IS PRESENT IN THE LIST\n"
     ]
    }
   ],
   "source": [
    "list = [2, 4, \"hamza\", 6.0, 3.0]\n",
    "a = []\n",
    "try : \n",
    "    for i in list :\n",
    "        print(int(i))\n",
    "        \n",
    "except :\n",
    "    print(\"ANOTHER TYPE OF DATA IS PRESENT IN THE LIST\")"
   ]
  },
  {
   "cell_type": "code",
   "execution_count": 41,
   "metadata": {},
   "outputs": [
    {
     "name": "stdout",
     "output_type": "stream",
     "text": [
      "{0: 10, 1: 20}\n",
      "{0: 10, 1: 20, 2: 30}\n"
     ]
    }
   ],
   "source": [
    "d = {0:10,\n",
    "     1:20\n",
    "    }\n",
    "print(d)\n",
    "d[2]=30\n",
    "print(d)"
   ]
  },
  {
   "cell_type": "code",
   "execution_count": 23,
   "metadata": {},
   "outputs": [
    {
     "name": "stdout",
     "output_type": "stream",
     "text": [
      "Sum : 600\n"
     ]
    }
   ],
   "source": [
    "def returnSum(myDict): \n",
    "      \n",
    "    sum = 0\n",
    "    for i in myDict: \n",
    "        sum = sum + myDict[i] \n",
    "      \n",
    "    return sum\n",
    "  \n",
    "dict = {'a': 100,\n",
    "        'b': 200,\n",
    "        'c': 300\n",
    "       } \n",
    "print(\"Sum :\", returnSum(dict)) \n"
   ]
  },
  {
   "cell_type": "code",
   "execution_count": 19,
   "metadata": {},
   "outputs": [
    {
     "name": "stdout",
     "output_type": "stream",
     "text": [
      "[6, 15, 15, 20, 20, 30, 40, 40, 50, 50]\n",
      "[15, 20, 40, 50]\n"
     ]
    }
   ],
   "source": [
    "my_list = [20,30,40,50,15,20,40,50,15,6]\n",
    " \n",
    "my_list.sort()\n",
    "print(my_list)\n",
    " \n",
    "new_list = sorted(set(my_list))\n",
    "dup_list =[]\n",
    " \n",
    " \n",
    "for i in range(len(new_list)):\n",
    "        if (my_list.count(new_list[i]) > 1 ):\n",
    "            dup_list.append(new_list[i])\n",
    "        \n",
    "print(dup_list) "
   ]
  },
  {
   "cell_type": "code",
   "execution_count": 24,
   "metadata": {},
   "outputs": [
    {
     "name": "stdout",
     "output_type": "stream",
     "text": [
      "Key is present in the dictionary\n",
      "Key is present in the dictionary\n"
     ]
    }
   ],
   "source": [
    "d = {1: 10,\n",
    "     'name': 'hamza',\n",
    "     'age' : 19 ,\n",
    "     3 : 40,\n",
    "     'course': 'python',\n",
    "    }\n",
    "def is_key_present(x):\n",
    " if x in d:\n",
    "    print('Key is present in the dictionary')\n",
    " else:\n",
    "    print('Key is not present in the dictionary')\n",
    "is_key_present(1)\n",
    "is_key_present('age')\n"
   ]
  }
 ],
 "metadata": {
  "kernelspec": {
   "display_name": "Python 3",
   "language": "python",
   "name": "python3"
  },
  "language_info": {
   "codemirror_mode": {
    "name": "ipython",
    "version": 3
   },
   "file_extension": ".py",
   "mimetype": "text/x-python",
   "name": "python",
   "nbconvert_exporter": "python",
   "pygments_lexer": "ipython3",
   "version": "3.7.4"
  }
 },
 "nbformat": 4,
 "nbformat_minor": 2
}
