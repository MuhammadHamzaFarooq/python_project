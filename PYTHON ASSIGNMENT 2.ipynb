{
 "cells": [
  {
   "cell_type": "code",
   "execution_count": 1,
   "metadata": {},
   "outputs": [
    {
     "name": "stdout",
     "output_type": "stream",
     "text": [
      "ENTER URDU MARKS: 84\n",
      "ENTER ENGLISH NUMBER: 85\n",
      "ENTER MATH NUMBER: 87\n",
      "ENTER PHYSICS NUMBER: 89\n",
      "ENTER CHEMISTRY NUMBER: 86\n",
      "total_marks =  500\n",
      "Obtained marks =  431\n",
      "Percentage =  86.2\n",
      "GRADE A+\n"
     ]
    }
   ],
   "source": [
    "urdu = int(input(\"ENTER URDU MARKS: \"))\n",
    "english = int(input(\"ENTER ENGLISH NUMBER: \"))\n",
    "math = int(input(\"ENTER MATH NUMBER: \"))\n",
    "physics = int(input(\"ENTER PHYSICS NUMBER: \"))\n",
    "chemistry = int(input(\"ENTER CHEMISTRY NUMBER: \"))\n",
    "obtained_marks = urdu + english + math + physics + chemistry\n",
    "total_marks = 500\n",
    "print(\"total_marks = \",total_marks)\n",
    "print(\"Obtained marks = \",obtained_marks)\n",
    "percentage = (obtained_marks*100)/500\n",
    "print(\"Percentage = \",percentage)\n",
    "if percentage>=80 and percentage<=100 :\n",
    " print(\"GRADE A+\")\n",
    "elif percentage>=70 and percentage<=80 :\n",
    " print(\"GRADE A\")\n",
    "elif percentage>=60 and percentage<=70 :\n",
    " print(\"GRADE B\")\n",
    "elif percentage>=50 and percentage<=60 :\n",
    " print(\"GRADE C\")\n",
    "elif percentage>=40 and percentage<=50 :\n",
    " print(\"GRADE D\")\n",
    "else :\n",
    " print(\"FAIL\")\n"
   ]
  },
  {
   "cell_type": "code",
   "execution_count": 2,
   "metadata": {},
   "outputs": [
    {
     "name": "stdout",
     "output_type": "stream",
     "text": [
      "ENTER ANY INTEGER: 87\n",
      "ODD\n"
     ]
    }
   ],
   "source": [
    "number = int(input(\"ENTER ANY INTEGER: \"))\n",
    "if number % 2 == 0:\n",
    "    print(\"EVEN\")\n",
    "else :\n",
    "    print(\"ODD\")"
   ]
  },
  {
   "cell_type": "code",
   "execution_count": 3,
   "metadata": {},
   "outputs": [
    {
     "name": "stdout",
     "output_type": "stream",
     "text": [
      "LENGTH OF ARRAY IS:  27\n"
     ]
    }
   ],
   "source": [
    "a = [1, 1, 2, 3, 5, 8, 13, 21, 34, 55,15,45,87,78,56,21,45,49,32,1,5,47,84,5231,54654,123165, 89]\n",
    "b = len(a)\n",
    "print(\"LENGTH OF ARRAY IS: \",b)"
   ]
  },
  {
   "cell_type": "code",
   "execution_count": 4,
   "metadata": {},
   "outputs": [
    {
     "name": "stdout",
     "output_type": "stream",
     "text": [
      "133\n"
     ]
    }
   ],
   "source": [
    "a = [1,33,63,36]\n",
    "b = sum(a)\n",
    "print(b)"
   ]
  },
  {
   "cell_type": "code",
   "execution_count": 5,
   "metadata": {},
   "outputs": [
    {
     "name": "stdout",
     "output_type": "stream",
     "text": [
      "63\n"
     ]
    }
   ],
   "source": [
    "a = [1,33,63,36]\n",
    "b = max(a)\n",
    "print(b)\n"
   ]
  },
  {
   "cell_type": "code",
   "execution_count": 6,
   "metadata": {},
   "outputs": [
    {
     "name": "stdout",
     "output_type": "stream",
     "text": [
      "[1]\n",
      "[1, 1]\n",
      "[1, 1, 2]\n",
      "[1, 1, 2, 3]\n",
      "[1, 1, 2, 3, 3]\n",
      "[1, 1, 2, 3, 3, 4]\n"
     ]
    }
   ],
   "source": [
    "new_list = []\n",
    "a = [1, 1, 2, 3, 3, 4, 5, 8, 13, 21, 34, 55, 89]\n",
    "for i in a :\n",
    "  if i < 5 :\n",
    "    new_list.append(i)    \n",
    "    print(new_list)\n"
   ]
  },
  {
   "cell_type": "code",
   "execution_count": null,
   "metadata": {},
   "outputs": [],
   "source": []
  }
 ],
 "metadata": {
  "kernelspec": {
   "display_name": "Python 3",
   "language": "python",
   "name": "python3"
  },
  "language_info": {
   "codemirror_mode": {
    "name": "ipython",
    "version": 3
   },
   "file_extension": ".py",
   "mimetype": "text/x-python",
   "name": "python",
   "nbconvert_exporter": "python",
   "pygments_lexer": "ipython3",
   "version": "3.7.4"
  }
 },
 "nbformat": 4,
 "nbformat_minor": 2
}
